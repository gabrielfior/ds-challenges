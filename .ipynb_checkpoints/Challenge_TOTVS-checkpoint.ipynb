{
 "cells": [
  {
   "cell_type": "code",
   "execution_count": 2,
   "metadata": {},
   "outputs": [],
   "source": [
    "import pandas as pd\n",
    "import matplotlib.pyplot as plt"
   ]
  },
  {
   "cell_type": "code",
   "execution_count": null,
   "metadata": {},
   "outputs": [],
   "source": [
    "!ls"
   ]
  },
  {
   "cell_type": "code",
   "execution_count": null,
   "metadata": {},
   "outputs": [],
   "source": [
    "# Importing data\n",
    "filename = 'challenge.json'\n",
    "df = pd.read_json(filename)"
   ]
  },
  {
   "cell_type": "code",
   "execution_count": null,
   "metadata": {},
   "outputs": [],
   "source": [
    "print(df.describe())\n",
    "df.head()"
   ]
  },
  {
   "cell_type": "markdown",
   "metadata": {},
   "source": [
    "# Question 1 - Use cases\n",
    "```\n",
    "1 - Can we predict the churn occurances in the dataset?\n",
    "2 - What are the most profitable sellers per salles channel?\n",
    "3 - What are the most profitable branches per salles channel?\n",
    "4 - How do sales develop during the year?\n",
    "```"
   ]
  },
  {
   "cell_type": "markdown",
   "metadata": {},
   "source": [
    "# Question 2 - Build statistical models\n",
    "\n",
    "Use-cases 2-4 would likely involve mainly visualization tasks, since it would involve enlightining the business side of how the business is going.\n",
    "\n",
    "The use-case 1, on the other hand, would benefit very much from a statistical model, since churn prediction can help companies a lot, in order to avoid customers leaving and/or cancelling purchases. So the basic idea we are trying to answer is:\n",
    "\n",
    "### Can we predict which orders will represent churns? If yes, with which accuracy?\n",
    "\n",
    "The model we are"
   ]
  },
  {
   "cell_type": "markdown",
   "metadata": {},
   "source": [
    "# Question 3 - Build statistical model"
   ]
  },
  {
   "cell_type": "code",
   "execution_count": 3,
   "metadata": {},
   "outputs": [],
   "source": [
    "# Importing data\n",
    "filename = 'challenge.json'\n",
    "df = pd.read_json(filename)"
   ]
  },
  {
   "cell_type": "code",
   "execution_count": 4,
   "metadata": {},
   "outputs": [
    {
     "name": "stdout",
     "output_type": "stream",
     "text": [
      "       branch_id  customer_code     group_code       is_churn      item_code  \\\n",
      "count   204428.0  204428.000000  204428.000000  202513.000000  204428.000000   \n",
      "mean         0.0     447.489062       0.307184       0.191168    1437.298981   \n",
      "std          0.0     246.678026       0.714639       0.393222     903.166319   \n",
      "min          0.0       0.000000       0.000000       0.000000       0.000000   \n",
      "25%          0.0     221.000000       0.000000       0.000000     631.000000   \n",
      "50%          0.0     486.000000       0.000000       0.000000    1455.000000   \n",
      "75%          0.0     651.000000       0.000000       0.000000    2048.000000   \n",
      "max          0.0     837.000000       3.000000       1.000000    2980.000000   \n",
      "\n",
      "       item_total_price       order_id       quantity  sales_channel  \\\n",
      "count     204428.000000  204428.000000  204428.000000  204428.000000   \n",
      "mean         304.048244   12434.088863      12.332694       1.761182   \n",
      "std         1009.268287    6935.623011      53.299314       2.929541   \n",
      "min            0.000000       0.000000       1.000000       0.000000   \n",
      "25%           79.600000    6497.750000       3.000000       0.000000   \n",
      "50%          156.150000   12698.000000       6.000000       0.000000   \n",
      "75%          293.862500   18280.000000      12.000000       2.000000   \n",
      "max       102951.110000   24617.000000    7000.000000     105.000000   \n",
      "\n",
      "        segment_code    seller_code    total_price     unit_price  \n",
      "count  204428.000000  204428.000000  204428.000000  204428.000000  \n",
      "mean        0.846381     145.543022    5337.072931      47.456664  \n",
      "std         1.615763      75.197609   21268.855032     145.295694  \n",
      "min         0.000000       0.000000       0.010000       0.010000  \n",
      "25%         0.000000      83.000000    1180.470000      14.670000  \n",
      "50%         0.000000     156.000000    2035.820000      21.780000  \n",
      "75%         2.000000     195.000000    3611.070000      46.720000  \n",
      "max         7.000000     289.000000  428976.460000   26280.000000  \n"
     ]
    },
    {
     "data": {
      "text/html": [
       "<div>\n",
       "<style scoped>\n",
       "    .dataframe tbody tr th:only-of-type {\n",
       "        vertical-align: middle;\n",
       "    }\n",
       "\n",
       "    .dataframe tbody tr th {\n",
       "        vertical-align: top;\n",
       "    }\n",
       "\n",
       "    .dataframe thead th {\n",
       "        text-align: right;\n",
       "    }\n",
       "</style>\n",
       "<table border=\"1\" class=\"dataframe\">\n",
       "  <thead>\n",
       "    <tr style=\"text-align: right;\">\n",
       "      <th></th>\n",
       "      <th>branch_id</th>\n",
       "      <th>customer_code</th>\n",
       "      <th>group_code</th>\n",
       "      <th>is_churn</th>\n",
       "      <th>item_code</th>\n",
       "      <th>item_total_price</th>\n",
       "      <th>order_id</th>\n",
       "      <th>quantity</th>\n",
       "      <th>register_date</th>\n",
       "      <th>sales_channel</th>\n",
       "      <th>segment_code</th>\n",
       "      <th>seller_code</th>\n",
       "      <th>total_price</th>\n",
       "      <th>unit_price</th>\n",
       "    </tr>\n",
       "  </thead>\n",
       "  <tbody>\n",
       "    <tr>\n",
       "      <th>0</th>\n",
       "      <td>0</td>\n",
       "      <td>143</td>\n",
       "      <td>0</td>\n",
       "      <td>0.0</td>\n",
       "      <td>854</td>\n",
       "      <td>292.91</td>\n",
       "      <td>21804</td>\n",
       "      <td>10</td>\n",
       "      <td>2017-11-10T00:00:00Z</td>\n",
       "      <td>0</td>\n",
       "      <td>0</td>\n",
       "      <td>190</td>\n",
       "      <td>1613.53</td>\n",
       "      <td>25.04</td>\n",
       "    </tr>\n",
       "    <tr>\n",
       "      <th>1</th>\n",
       "      <td>0</td>\n",
       "      <td>433</td>\n",
       "      <td>0</td>\n",
       "      <td>0.0</td>\n",
       "      <td>246</td>\n",
       "      <td>287.19</td>\n",
       "      <td>5486</td>\n",
       "      <td>20</td>\n",
       "      <td>2011-05-16T00:00:00Z</td>\n",
       "      <td>1</td>\n",
       "      <td>5</td>\n",
       "      <td>153</td>\n",
       "      <td>11163.69</td>\n",
       "      <td>12.33</td>\n",
       "    </tr>\n",
       "    <tr>\n",
       "      <th>2</th>\n",
       "      <td>0</td>\n",
       "      <td>486</td>\n",
       "      <td>0</td>\n",
       "      <td>0.0</td>\n",
       "      <td>1420</td>\n",
       "      <td>184.84</td>\n",
       "      <td>22662</td>\n",
       "      <td>12</td>\n",
       "      <td>2018-01-24T00:00:00Z</td>\n",
       "      <td>0</td>\n",
       "      <td>0</td>\n",
       "      <td>166</td>\n",
       "      <td>6432.12</td>\n",
       "      <td>12.80</td>\n",
       "    </tr>\n",
       "    <tr>\n",
       "      <th>3</th>\n",
       "      <td>0</td>\n",
       "      <td>107</td>\n",
       "      <td>0</td>\n",
       "      <td>0.0</td>\n",
       "      <td>1963</td>\n",
       "      <td>189.18</td>\n",
       "      <td>3956</td>\n",
       "      <td>18</td>\n",
       "      <td>2010-07-28T00:00:00Z</td>\n",
       "      <td>1</td>\n",
       "      <td>0</td>\n",
       "      <td>156</td>\n",
       "      <td>831.82</td>\n",
       "      <td>10.51</td>\n",
       "    </tr>\n",
       "    <tr>\n",
       "      <th>4</th>\n",
       "      <td>0</td>\n",
       "      <td>768</td>\n",
       "      <td>0</td>\n",
       "      <td>0.0</td>\n",
       "      <td>1786</td>\n",
       "      <td>66.87</td>\n",
       "      <td>4730</td>\n",
       "      <td>5</td>\n",
       "      <td>2010-12-17T00:00:00Z</td>\n",
       "      <td>1</td>\n",
       "      <td>0</td>\n",
       "      <td>218</td>\n",
       "      <td>1736.48</td>\n",
       "      <td>11.82</td>\n",
       "    </tr>\n",
       "  </tbody>\n",
       "</table>\n",
       "</div>"
      ],
      "text/plain": [
       "   branch_id  customer_code  group_code  is_churn  item_code  \\\n",
       "0          0            143           0       0.0        854   \n",
       "1          0            433           0       0.0        246   \n",
       "2          0            486           0       0.0       1420   \n",
       "3          0            107           0       0.0       1963   \n",
       "4          0            768           0       0.0       1786   \n",
       "\n",
       "   item_total_price  order_id  quantity         register_date  sales_channel  \\\n",
       "0            292.91     21804        10  2017-11-10T00:00:00Z              0   \n",
       "1            287.19      5486        20  2011-05-16T00:00:00Z              1   \n",
       "2            184.84     22662        12  2018-01-24T00:00:00Z              0   \n",
       "3            189.18      3956        18  2010-07-28T00:00:00Z              1   \n",
       "4             66.87      4730         5  2010-12-17T00:00:00Z              1   \n",
       "\n",
       "   segment_code  seller_code  total_price  unit_price  \n",
       "0             0          190      1613.53       25.04  \n",
       "1             5          153     11163.69       12.33  \n",
       "2             0          166      6432.12       12.80  \n",
       "3             0          156       831.82       10.51  \n",
       "4             0          218      1736.48       11.82  "
      ]
     },
     "execution_count": 4,
     "metadata": {},
     "output_type": "execute_result"
    }
   ],
   "source": [
    "print(df.describe())\n",
    "df.head()"
   ]
  },
  {
   "cell_type": "markdown",
   "metadata": {},
   "source": [
    "## 3.1 Visualization"
   ]
  },
  {
   "cell_type": "code",
   "execution_count": 6,
   "metadata": {},
   "outputs": [
    {
     "data": {
      "text/plain": [
       "Index(['branch_id', 'customer_code', 'group_code', 'is_churn', 'item_code',\n",
       "       'item_total_price', 'order_id', 'quantity', 'register_date',\n",
       "       'sales_channel', 'segment_code', 'seller_code', 'total_price',\n",
       "       'unit_price'],\n",
       "      dtype='object')"
      ]
     },
     "execution_count": 6,
     "metadata": {},
     "output_type": "execute_result"
    }
   ],
   "source": [
    "df.columns"
   ]
  },
  {
   "cell_type": "code",
   "execution_count": 7,
   "metadata": {},
   "outputs": [
    {
     "name": "stdout",
     "output_type": "stream",
     "text": [
      "[0]\n",
      "[0 2 1 3]\n"
     ]
    }
   ],
   "source": [
    "print(df.branch_id.unique())\n",
    "print(df.group_code.unique())"
   ]
  },
  {
   "cell_type": "code",
   "execution_count": null,
   "metadata": {},
   "outputs": [],
   "source": [
    "plt.plot(df.register_date)\n",
    "plt.show()"
   ]
  },
  {
   "cell_type": "code",
   "execution_count": null,
   "metadata": {},
   "outputs": [],
   "source": []
  }
 ],
 "metadata": {
  "kernelspec": {
   "display_name": "Python 3",
   "language": "python",
   "name": "python3"
  },
  "language_info": {
   "codemirror_mode": {
    "name": "ipython",
    "version": 3
   },
   "file_extension": ".py",
   "mimetype": "text/x-python",
   "name": "python",
   "nbconvert_exporter": "python",
   "pygments_lexer": "ipython3",
   "version": "3.6.3"
  }
 },
 "nbformat": 4,
 "nbformat_minor": 2
}
